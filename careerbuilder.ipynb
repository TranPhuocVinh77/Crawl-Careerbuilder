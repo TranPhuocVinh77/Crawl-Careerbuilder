{
  "cells": [
    {
      "cell_type": "markdown",
      "source": [
        "# Import thư viện"
      ],
      "metadata": {
        "id": "OpfWbI8_bB5G"
      }
    },
    {
      "cell_type": "code",
      "execution_count": null,
      "metadata": {
        "id": "nTtNpC1P4kmg"
      },
      "outputs": [],
      "source": [
        "import requests\n",
        "import re\n",
        "import json\n",
        "from bs4 import BeautifulSoup\n",
        "import csv\n",
        "import concurrent.futures as cf"
      ]
    },
    {
      "cell_type": "markdown",
      "source": [
        "Link web"
      ],
      "metadata": {
        "id": "BnJS2FFPcUOm"
      }
    },
    {
      "cell_type": "code",
      "execution_count": null,
      "metadata": {
        "id": "PF1ue6Qk6dEo"
      },
      "outputs": [],
      "source": [
        "url = \"https://careerbuilder.com\""
      ]
    },
    {
      "cell_type": "code",
      "source": [
        "url_base = \"https://www.careerbuilder.com/jobs?cb_workhome=true&keywords=&page_number=\""
      ],
      "metadata": {
        "id": "ghekILYcS3dW"
      },
      "execution_count": null,
      "outputs": []
    },
    {
      "cell_type": "markdown",
      "source": [
        "# Cào dữ liệu"
      ],
      "metadata": {
        "id": "qBhqNBklbMK9"
      }
    },
    {
      "cell_type": "markdown",
      "source": [
        "Các hàm xử lý chuỗi"
      ],
      "metadata": {
        "id": "1sIveuu2bU8X"
      }
    },
    {
      "cell_type": "code",
      "source": [
        "#làm sạch string, ex: \"\\n\\t remote job\"  return \"remove job\"\n",
        "def clean(text):\n",
        "  return re.sub('\\s+', '', text)"
      ],
      "metadata": {
        "id": "A48Dj7mVX8NY"
      },
      "execution_count": null,
      "outputs": []
    },
    {
      "cell_type": "code",
      "execution_count": null,
      "metadata": {
        "id": "idpBKq516ngw"
      },
      "outputs": [],
      "source": [
        "#covert số str sang int, ex: \"lương 25,9879$\" return 259879\n",
        "def get_num(s):\n",
        "  lst = re.findall('\\d+', s)\n",
        "  string = ''.join(lst)\n",
        "  return int(string)"
      ]
    },
    {
      "cell_type": "markdown",
      "source": [
        "Hàm chuyển html sang soup"
      ],
      "metadata": {
        "id": "fcgbNOO9byMS"
      }
    },
    {
      "cell_type": "code",
      "execution_count": null,
      "metadata": {
        "id": "nFaR1bWy6Rts"
      },
      "outputs": [],
      "source": [
        "def get_soup(url):\n",
        "  req = requests.get(url)\n",
        "  return BeautifulSoup(req.text,\"lxml\")"
      ]
    },
    {
      "cell_type": "markdown",
      "source": [
        "Các hàm tạo dict and list"
      ],
      "metadata": {
        "id": "8D6c-wAHb7Ys"
      }
    },
    {
      "cell_type": "code",
      "execution_count": null,
      "metadata": {
        "id": "i7lV7P4M6TZO"
      },
      "outputs": [],
      "source": [
        "#đếm số lượng công việc (số lượng ghi trên web)\n",
        "def get_count_job(soup):\n",
        "  return soup.select_one('#job-count').text\n",
        "url_first = \"https://www.careerbuilder.com/jobs?cb_workhome=true&keywords=&page_number=1\"\n",
        "soup_first =get_soup(url_first)\n",
        "json_data = {\n",
        "    'Remote job': 'Remote',\n",
        "    'Number of posts': get_num(get_count_job(soup_first)),\n",
        "    'Job_info':[]\n",
        "}\n"
      ]
    },
    {
      "cell_type": "code",
      "execution_count": null,
      "metadata": {
        "id": "Y8KML9NuGJ2u"
      },
      "outputs": [],
      "source": [
        "def get_job_info():\n",
        "  return  {\n",
        "      'Number of applying': None,\n",
        "      'Title': '',\n",
        "      'Description': {\n",
        "          'Recommended Skills':None,\n",
        "          'Qualifications':None\n",
        "          },\n",
        "      'Type': None,\n",
        "      'Level of positions': None,\n",
        "      'Compensation offered': None,\n",
        "      'Location': None,\n",
        "      'Business field': None \n",
        "  }\n",
        "  "
      ]
    },
    {
      "cell_type": "markdown",
      "source": [
        "Các hàm lọc"
      ],
      "metadata": {
        "id": "LQXZQRU-cbuQ"
      }
    },
    {
      "cell_type": "code",
      "execution_count": null,
      "metadata": {
        "id": "KnqgzsO08H10"
      },
      "outputs": [],
      "source": [
        "def get_href(link):\n",
        "  #lấy link từ thẻ <a>\n",
        "  return link.get(\"href\")"
      ]
    },
    {
      "cell_type": "code",
      "execution_count": 19,
      "metadata": {
        "id": "un6eRm8o6hI9"
      },
      "outputs": [],
      "source": [
        "def get_link():\n",
        "  lst_linkjob = list()\n",
        "  def c_get_link(link):\n",
        "    return url + get_href(link)\n",
        "   #lấy demo 10*25 job\n",
        "  for i in range(1,11):\n",
        "  # for i in range(1,(get_num(get_count_job(soup_first)))//25+2): #khi làm thực tế thì lấy cái này\n",
        "    soup =get_soup(url_base+str(i))\n",
        "    job_link = soup.select(\"#jobs_collection a.data-results-content\")\n",
        "    with cf.ThreadPoolExecutor() as exe:\n",
        "      lst_linkjob = list(lst_linkjob + list(exe.map(c_get_link, job_link)))\n",
        "  return list(set(lst_linkjob))"
      ]
    },
    {
      "cell_type": "code",
      "execution_count": null,
      "metadata": {
        "id": "znxZ77GP8Lhf"
      },
      "outputs": [],
      "source": [
        "def get_header(soup):\n",
        "  #lấy title, location,type,Compensation offered,Business field, Recommended Skills\n",
        "  tmp = soup.select_one('div.data-display-header_info-content')\n",
        "  def get_text(span):\n",
        "    return clean(span.text)\n",
        "  lst =list()\n",
        "  try:\n",
        "    lst= list(map(get_text,tmp.select('div.data-details span')))\n",
        "  except:\n",
        "    #một số web sẽ không đây đủ thông tin cho cả ba loại\n",
        "    lst = [None,None,None]\n",
        "  try:\n",
        "    lst.append(clean(tmp.select_one('h2').text))\n",
        "  except:\n",
        "    lst.append(None)\n",
        "  try:\n",
        "    lst.append(clean(tmp.select_one('#cb-salcom-info').text))\n",
        "  except:\n",
        "    lst.append(None)\n",
        "  return lst"
      ]
    },
    {
      "cell_type": "code",
      "execution_count": null,
      "metadata": {
        "id": "Pbz1WDHY_Xv9"
      },
      "outputs": [],
      "source": [
        "def get_disp(soup):\n",
        "  #lấy  Qualifications\n",
        "  soup=soup.select_one('#jdp_description div .col-mobile-full')\n",
        "  try:\n",
        "    lst = soup.find_all(text=re.compile('ualifications'))\n",
        "  except:\n",
        "    return None\n",
        "  disp = []\n",
        "  for i in lst:\n",
        "    if i.parent.find_next_sibling('ul'):\n",
        "      disp.append(clean(i.parent.find_next_sibling('ul').text))\n",
        "    elif  i.parent.parent.find_next_sibling('ul'):\n",
        "      disp.append( clean(i.parent.parent.find_next_sibling('ul').text))\n",
        "    else:\n",
        "      return None\n",
        "  return disp"
      ]
    },
    {
      "cell_type": "markdown",
      "source": [
        "Main crawl"
      ],
      "metadata": {
        "id": "IOSYumnZchHJ"
      }
    },
    {
      "cell_type": "code",
      "execution_count": null,
      "metadata": {
        "id": "XElURBPa-yZh"
      },
      "outputs": [],
      "source": [
        "def main_crawl(link):\n",
        "  # link =lst_linkjob[3]\n",
        "  job_info = get_job_info()\n",
        "  sc = get_soup(link)\n",
        "  header = get_header(sc)\n",
        "  if len(header) == 5:\n",
        "    job_info['Business field'],job_info['Location'],job_info['Type'],job_info['Title'] ,job_info['Compensation offered'] = header\n",
        "  elif len(header) == 4:\n",
        "    job_info['Business field'],job_info['Type'],job_info['Title'] ,job_info['Compensation offered'] = header\n",
        "  job_info['Description']['Recommended Skills'] = [clean(rcm.text) for rcm in sc.select('div.col.big.col-mobile-full > div.bloc ul li')]\n",
        "  # print(sc.select_one('div.col.big.col-mobile-full > div.bloc ul').text)\n",
        "  job_info['Description']['Qualifications'] = get_disp(sc)\n",
        "  return job_info"
      ]
    },
    {
      "cell_type": "code",
      "execution_count": 20,
      "metadata": {
        "id": "Tn3I210RNxAQ",
        "colab": {
          "base_uri": "https://localhost:8080/"
        },
        "outputId": "88e7947e-53eb-4a24-af82-b67782f861d2"
      },
      "outputs": [
        {
          "output_type": "execute_result",
          "data": {
            "text/plain": [
              "250"
            ]
          },
          "metadata": {},
          "execution_count": 20
        }
      ],
      "source": [
        "#lấy link cho vào list lst_linkjob\n",
        "lst_linkjob= get_link()\n",
        "#số lượng linkjob\n",
        "len(lst_linkjob)\n"
      ]
    },
    {
      "cell_type": "code",
      "source": [
        "with cf.ThreadPoolExecutor() as exe:\n",
        "    json_data['Job_info'] = list(exe.map(main_crawl, lst_linkjob))"
      ],
      "metadata": {
        "id": "Dc162pR4Ktok"
      },
      "execution_count": 21,
      "outputs": []
    },
    {
      "cell_type": "markdown",
      "source": [
        "# Chuyển data sang file"
      ],
      "metadata": {
        "id": "hggqkCmVcmB9"
      }
    },
    {
      "cell_type": "markdown",
      "source": [
        "Json"
      ],
      "metadata": {
        "id": "xmHbiHllcsFa"
      }
    },
    {
      "cell_type": "code",
      "source": [
        "#to json\n",
        "json.dump( json_data['Job_info'],open('careerbuilder.json','w'),indent=4)"
      ],
      "metadata": {
        "id": "SutlE7vTIUzS"
      },
      "execution_count": 18,
      "outputs": []
    },
    {
      "cell_type": "markdown",
      "source": [
        "Csv"
      ],
      "metadata": {
        "id": "cS6NLfRWcwVn"
      }
    },
    {
      "cell_type": "code",
      "source": [
        "#to csv\n",
        "csv_file = \"careerbuilder.csv\"\n",
        "csv_columns = get_job_info()\n",
        "try:\n",
        "    with open(csv_file, 'w') as csvfile:\n",
        "        writer = csv.DictWriter(csvfile, fieldnames=csv_columns)\n",
        "        writer.writeheader()\n",
        "        for data in json_data['Job_info']:\n",
        "            writer.writerow(data)\n",
        "except IOError:\n",
        "    print(\"I/O error\")"
      ],
      "metadata": {
        "id": "ndcSDzBUY70-"
      },
      "execution_count": null,
      "outputs": []
    }
  ],
  "metadata": {
    "colab": {
      "collapsed_sections": [
        "OpfWbI8_bB5G"
      ],
      "name": "careerbuilder_(1).ipynb",
      "provenance": []
    },
    "kernelspec": {
      "display_name": "Python 3",
      "name": "python3"
    },
    "language_info": {
      "name": "python"
    }
  },
  "nbformat": 4,
  "nbformat_minor": 0
}